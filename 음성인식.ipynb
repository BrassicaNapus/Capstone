{
  "nbformat": 4,
  "nbformat_minor": 0,
  "metadata": {
    "colab": {
      "provenance": [],
      "authorship_tag": "ABX9TyPSE0usU66j4P00Vq9/04E6",
      "include_colab_link": true
    },
    "kernelspec": {
      "name": "python3",
      "display_name": "Python 3"
    },
    "language_info": {
      "name": "python"
    }
  },
  "cells": [
    {
      "cell_type": "markdown",
      "metadata": {
        "id": "view-in-github",
        "colab_type": "text"
      },
      "source": [
        "<a href=\"https://colab.research.google.com/github/BrassicaNapus/Capstone/blob/main/%EC%9D%8C%EC%84%B1%EC%9D%B8%EC%8B%9D.ipynb\" target=\"_parent\"><img src=\"https://colab.research.google.com/assets/colab-badge.svg\" alt=\"Open In Colab\"/></a>"
      ]
    },
    {
      "cell_type": "code",
      "source": [
        "!pip install SpeechRecognition"
      ],
      "metadata": {
        "id": "dtU7uVe4aIEp"
      },
      "execution_count": null,
      "outputs": []
    },
    {
      "cell_type": "code",
      "execution_count": null,
      "metadata": {
        "colab": {
          "base_uri": "https://localhost:8080/",
          "height": 35
        },
        "id": "ueoHNHTsZ87l",
        "outputId": "b9a7d6d1-0410-4b52-87be-57810abb7511"
      },
      "outputs": [
        {
          "output_type": "execute_result",
          "data": {
            "text/plain": [
              "'서울의 중심에는 한강 하류 가동해서 서쪽으로 흐르고 있다'"
            ],
            "application/vnd.google.colaboratory.intrinsic+json": {
              "type": "string"
            }
          },
          "metadata": {},
          "execution_count": 2
        }
      ],
      "source": [
        "import speech_recognition as sr\n",
        "sr.__version__\n",
        "\n",
        "\n",
        "r = sr.Recognizer()\n",
        "\n",
        "harvard = sr.AudioFile('test11.wav')\n",
        "\n",
        "with harvard as source:\n",
        "    audio = r.record(source)\n",
        "\n",
        "type(audio)\n",
        "\n",
        "r.recognize_google(audio, language='ko-KR')"
      ]
    }
  ]
}